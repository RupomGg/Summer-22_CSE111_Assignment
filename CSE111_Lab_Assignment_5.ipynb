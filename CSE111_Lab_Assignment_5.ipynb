{
  "cells": [
    {
      "cell_type": "markdown",
      "metadata": {
        "id": "K58zTAIjozYF"
      },
      "source": [
        "#**Task 1**\n",
        "\n",
        "Write a class called **Marks** with a required constructor. Then perform the addition using operator overloading\n",
        "\n",
        "**#Write your code here**\n",
        "\n",
        "**#Do not change the following lines of code**   \n",
        "Q1 = Marks(int(input(\"Quiz 1 (out of 10): \")))                                          \n",
        "Q2 = Marks(int(input(\"Quiz 2 (out of 10): \")))                                      \n",
        "Lab = Marks(int(input(\"Lab (out of 30): \")))                                         \n",
        "Mid = Marks(int(input(\"Mid (out of 20): \")))                                            \n",
        "Final = Marks(int(input(\"Final (out of 30): \")))                                     \n",
        "total = Q1 + Q2 + Lab + Mid + Final                                                     \n",
        "print(\"Total marks: {}\".format(total.mark))                                         \n",
        "\n",
        "\n",
        "**Sample Input 1:**\n",
        "Quiz 1 (out of 10): 10                                                                 \n",
        "Quiz 2 (out of 10): 10                                                               \n",
        "Lab (out of 30): 30                                                                  \n",
        "Mid (out of 20): 20                                                                   \n",
        "Final (out of 30): 30                                                                 \n",
        "\n",
        "**Sample Output 1:**\n",
        "Total marks: 100\n",
        "\n",
        "**Sample Input 2:**                                                                 \n",
        "Quiz 1 (out of 10): 10                                                               \n",
        "Quiz 2 (out of 10): 8                                                              \n",
        "Lab (out of 30): 30                                                                      \n",
        "Mid (out of 20): 20                                                                 \n",
        "Final (out of 30): 29                                                                   \n",
        "\n",
        "**Sample Output 2:**\n",
        "Total marks: 97\n",
        "\n"
      ]
    },
    {
      "cell_type": "code",
      "execution_count": null,
      "metadata": {
        "colab": {
          "base_uri": "https://localhost:8080/"
        },
        "id": "EK_CT2Lyoqd9",
        "outputId": "990cb252-a0b0-438d-a648-92e5318edbe1"
      },
      "outputs": [
        {
          "name": "stdout",
          "output_type": "stream",
          "text": [
            "Quiz 1 (out of 10): 1\n",
            "Quiz 2 (out of 10): 2\n",
            "Lab (out of 30): 3\n",
            "Mid (out of 20): 4\n",
            "Final (out of 30): 5\n",
            "Total marks: 15\n"
          ]
        }
      ],
      "source": [
        "#todo\n",
        "class Marks:\n",
        "     def __init__ (self,mark):\n",
        "        self.mark=mark\n",
        "     def __add__(self,other):\n",
        "        sum = self.mark+other.mark\n",
        "        return Marks(sum)\n",
        "        \n",
        "      \n",
        "Q1 = Marks(int(input(\"Quiz 1 (out of 10): \")))\n",
        "Q2 = Marks(int(input(\"Quiz 2 (out of 10): \")))\n",
        "Lab = Marks(int(input(\"Lab (out of 30): \")))\n",
        "Mid = Marks(int(input(\"Mid (out of 20): \")))\n",
        "Final = Marks(int(input(\"Final (out of 30): \")))\n",
        "total = Q1 + Q2 + Lab + Mid + Final\n",
        "print(\"Total marks: {}\".format(total.mark))"
      ]
    },
    {
      "cell_type": "markdown",
      "metadata": {
        "id": "11CEqaAZpxPD"
      },
      "source": [
        "#**Task 2**\n",
        "Design the program to get the output as shown.                                          \n",
        "**Subtasks:**                                                                       \n",
        "* You will need to create 2 classes: Teacher and Course\n",
        "*Make all the variables in the Teacher class private.\n",
        "*Make all the variables in the Course class public.\n",
        "*Write the required codes in the Teacher and Course classes.\n",
        "\n",
        "**[You are not allowed to change the code below]**\n",
        "\n",
        "**# Write your code here for subtasks 1-4**\n",
        "    \n",
        "t1 = Teacher(\"Saad Abdullah\", \"CSE\")                                                 \n",
        "t2 = Teacher(\"Mumit Khan\", \"CSE\")                                                   \n",
        "t3 = Teacher(\"Sadia Kazi\", \"CSE\")                          \n",
        "c1 = Course(\"CSE 110 Programming Language I\")                           \n",
        "c2 = Course(\"CSE 111 Programming Language-II\")                           \n",
        "c3 = Course(\"CSE 220 Data Structures\")                           \n",
        "c4 = Course(\"CSE 221 Algorithms\")                           \n",
        "c5 = Course(\"CCSE 230 Discrete Mathematics\")                           \n",
        "c6 = Course(\"CSE 310 Object Oriented Programming\")                           \n",
        "c7 = Course(\"CSE 320 Data Communications\")                          \n",
        "c8 = Course(\"CSE 340 Computer Architecture\")                                       \n",
        "t1.addCourse(c1)                                                                   \n",
        "t1.addCourse(c2)                                                                      \n",
        "t2.addCourse(c3)                                                                    \n",
        "t2.addCourse(c4)                                                                 \n",
        "t2.addCourse(c5)                                                                   \n",
        "t3.addCourse(c6)                                                                     \n",
        "t3.addCourse(c7)                                                                    \n",
        "t3.addCourse(c8)                                                                      \n",
        "t1.printDetail()                                                                     \n",
        "t2.printDetail()                                                                 \n",
        "t3.printDetail()\n",
        "\n",
        "**Output**\n",
        "\n",
        "![image.png](data:image/png;base64,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)"
      ]
    },
    {
      "cell_type": "code",
      "execution_count": null,
      "metadata": {
        "colab": {
          "base_uri": "https://localhost:8080/"
        },
        "id": "GwZxYBcq7HuV",
        "outputId": "087c2523-d7b5-48e3-b970-2d2983bb4a72"
      },
      "outputs": [
        {
          "output_type": "stream",
          "name": "stdout",
          "text": [
            "====================================\n",
            "Name:Saad Abdullah\n",
            "Department:CSE\n",
            "List of courses\n",
            "====================================\n",
            "CSE 110 Programming Language I\n",
            "CSE 111 Programming Language-II\n",
            "====================================\n",
            "====================================\n",
            "Name:Mumit Khan\n",
            "Department:CSE\n",
            "List of courses\n",
            "====================================\n",
            "CSE 220 Data Structures\n",
            "CSE 221 Algorithms\n",
            "CCSE 230 Discrete Mathematics\n",
            "====================================\n",
            "====================================\n",
            "Name:Sadia Kazi\n",
            "Department:CSE\n",
            "List of courses\n",
            "====================================\n",
            "CSE 310 Object Oriented Programming\n",
            "CSE 320 Data Communications\n",
            "CSE 340 Computer Architecture\n",
            "====================================\n"
          ]
        }
      ],
      "source": [
        "#todo\n",
        "class Teacher:\n",
        "     def __init__(self,name,dept):\n",
        "         self.__name=name\n",
        "         self.__dept=dept\n",
        "         self.__clist=[]\n",
        "     def addCourse(self,x):\n",
        "         self.__clist.append(x.c)\n",
        "     def printDetail(self):\n",
        "         print(\"====================================\")\n",
        "         print(f\"Name:{self.__name}\\nDepartment:{self.__dept}\\nList of courses\")\n",
        "         print(\"====================================\")\n",
        "         for i in self.__clist:\n",
        "             print(i)\n",
        "         print(\"====================================\")\n",
        "class Course:\n",
        "     def __init__(self,c):\n",
        "          self.c = c\n",
        "     \n",
        "            \n",
        "t1 = Teacher(\"Saad Abdullah\", \"CSE\")\n",
        "t2 = Teacher(\"Mumit Khan\", \"CSE\")\n",
        "t3 = Teacher(\"Sadia Kazi\", \"CSE\")\n",
        "c1 = Course(\"CSE 110 Programming Language I\")\n",
        "c2 = Course(\"CSE 111 Programming Language-II\")\n",
        "c3 = Course(\"CSE 220 Data Structures\")\n",
        "c4 = Course(\"CSE 221 Algorithms\")\n",
        "c5 = Course(\"CCSE 230 Discrete Mathematics\")\n",
        "c6 = Course(\"CSE 310 Object Oriented Programming\")\n",
        "c7 = Course(\"CSE 320 Data Communications\")\n",
        "c8 = Course(\"CSE 340 Computer Architecture\")\n",
        "t1.addCourse(c1)\n",
        "t1.addCourse(c2)\n",
        "t2.addCourse(c3)\n",
        "t2.addCourse(c4)\n",
        "t2.addCourse(c5)\n",
        "t3.addCourse(c6)\n",
        "t3.addCourse(c7)\n",
        "t3.addCourse(c8)\n",
        "t1.printDetail()\n",
        "t2.printDetail()\n",
        "t3.printDetail() "
      ]
    },
    {
      "cell_type": "markdown",
      "metadata": {
        "id": "-1XIiulg7I15"
      },
      "source": [
        "#**Task 3**\n",
        "Design the program to get the output as shown.                                         \n",
        "**Subtasks:**                                                                       \n",
        "* You will need to create 2 classes: **Team** and **Player**\n",
        "* Make all the variables in the Team class private.\n",
        "* Make all the variables in the Player class public.\n",
        "* Write the required codes in the Team and Player classes\n",
        "\n",
        "**Hints:**\n",
        "Create a list in team class to store the player’s name in that list\n",
        "Use constructor overloading technique for Team class\n",
        "\n",
        "**[You are not allowed to change the code below]**\n",
        "\n",
        "***# Write your code here for subtasks 1-4***\n",
        "    \n",
        "b = Team()                                                                          \n",
        "b.setName('Bangladesh')                                                             \n",
        "mashrafi = Player(\"Mashrafi\")                                                       \n",
        "b.addPlayer(mashrafi)                                                               \n",
        "tamim = Player(\"Tamim\")                                                            \n",
        "b.addPlayer(tamim)                                                                 \n",
        "b.printDetail()                                                                      \n",
        "a = Team(\"Australia\")                                                                   \n",
        "ponting = Player(\"Ponting\")                                                                          \n",
        "a.addPlayer(ponting)                                                                \n",
        "lee = Player(\"Lee\")                                                                 \n",
        "a.addPlayer(lee)                                                                             \n",
        "a.printDetail()\n",
        "\n",
        "![image.png](data:image/png;base64,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)\n",
        "\n",
        "\n"
      ]
    },
    {
      "cell_type": "code",
      "execution_count": null,
      "metadata": {
        "colab": {
          "base_uri": "https://localhost:8080/"
        },
        "id": "R8DHiATgoJi8",
        "outputId": "79f0240b-59f2-4e85-bd2f-dad81056f52e"
      },
      "outputs": [
        {
          "output_type": "stream",
          "name": "stdout",
          "text": [
            "====================================\n",
            "Team:None\n",
            "List of Players:['Mashrafi', 'Tamim']\n",
            "====================================\n",
            "====================================\n",
            "Team:Australia\n",
            "List of Players:['Ponting', 'Lee']\n",
            "====================================\n"
          ]
        }
      ],
      "source": [
        "#todo\n",
        "class Team:\n",
        "     def __init__(self,name=None):\n",
        "        self.__name=name\n",
        "        self.__plist=[]\n",
        "     def setName(self,x):\n",
        "         self.name=x\n",
        "     def addPlayer(self,z):\n",
        "         self.__plist.append(z.player)\n",
        "     def printDetail(self):\n",
        "         print(\"====================================\")\n",
        "         print(f\"Team:{self.__name}\\nList of Players:{self.__plist}\")\n",
        "         print(\"====================================\")\n",
        "class Player:\n",
        "     def __init__(self,player):\n",
        "         self.player = player\n",
        "\n",
        "\n",
        "b = Team()\n",
        "b.setName('Bangladesh')\n",
        "mashrafi = Player(\"Mashrafi\")\n",
        "b.addPlayer(mashrafi)\n",
        "tamim = Player(\"Tamim\")\n",
        "b.addPlayer(tamim)\n",
        "b.printDetail()\n",
        "a = Team(\"Australia\")\n",
        "ponting = Player(\"Ponting\")\n",
        "a.addPlayer(ponting)\n",
        "lee = Player(\"Lee\")\n",
        "a.addPlayer(lee)\n",
        "a.printDetail()\n",
        "\n"
      ]
    },
    {
      "cell_type": "markdown",
      "metadata": {
        "id": "81IrgKVJ74NQ"
      },
      "source": [
        "#**Task 4**\n",
        "\n",
        "Look at the code and the sample inputs and outputs below to design the program accordingly.\n",
        "* Write a class called **Color** that only adds the 3 primary colors (red, blue and yellow).\n",
        "* Write a required constructor for the class. \n",
        "* You have to use operator overloading to get the desired outputs as shown.\n",
        "\n",
        "**Hint:**\n",
        "\n",
        "There will be only one constructor and only one method tackling the addition operation. No other methods are required.                                           \n",
        "**Note:** Order of the color given as input should not matter. For example, in sample input 1, if the first input was yellow and then red, the output would still be orange.\n",
        "\n",
        "**#Write your code here**\n",
        "\n",
        "***#Do not change the following lines of code****    \n",
        "    \n",
        "C1 = Color(input(\"First Color: \").lower())                                              \n",
        "C2 = Color(input(\"Second Color: \").lower())                                            \n",
        "C3 = C1 + C2                                                                         \n",
        "print(\"Color formed:\", C3.clr)                                                          \n",
        "\n",
        "\n",
        "**Output**\n",
        "\n",
        "![image.png](data:image/png;base64,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)\n"
      ]
    },
    {
      "cell_type": "code",
      "execution_count": null,
      "metadata": {
        "id": "_3SLyIs-8nrW",
        "colab": {
          "base_uri": "https://localhost:8080/"
        },
        "outputId": "b13e5109-6a40-47cd-a631-39d34dac7ca9"
      },
      "outputs": [
        {
          "output_type": "stream",
          "name": "stdout",
          "text": [
            "First Color: yellow\n",
            "Second Color: red\n",
            "Color formed: Orenge\n"
          ]
        }
      ],
      "source": [
        "#todo\n",
        "class Color:\n",
        "     def __init__(self,clr):\n",
        "       self.clr=clr\n",
        "     def __add__(self,other):\n",
        "       if self.clr ==\"red\" and other.clr==\"yellow\" or self.clr ==\"yellow\" and other.clr==\"red\":\n",
        "          return Color(\"Orenge\")\n",
        "       elif self.clr ==\"red\" and other.clr==\"blue\" or self.clr ==\"blue\" and other.clr==\"red\":\n",
        "          return Color(\"Violet\")\n",
        "       elif self.clr ==\"blue\" and other.clr==\"yellow\" or self.clr ==\"yellow\" and other.clr==\"blue\":\n",
        "          return Color(\"Green\")\n",
        "\n",
        "C1 = Color(input(\"First Color: \").lower())\n",
        "C2 = Color(input(\"Second Color: \").lower())\n",
        "C3 = C1 + C2\n",
        "print(\"Color formed:\", C3.clr)        "
      ]
    },
    {
      "cell_type": "markdown",
      "metadata": {
        "id": "8_X1mMu88pg_"
      },
      "source": [
        "#**Task 5**\n",
        "Write a class called **Circle** with the required constructor and methods to get the following output.                                                         \n",
        "**Subtasks:**\n",
        "1. Create a class called Circle.\n",
        "2. Create the required constructor. Use Encapsulation to protect the variables. [Hint: Assign the variables in private]\n",
        "3. Create getRadius() and setRadius() method to access variables.  \n",
        "4. Create a method called area to calculate the area of circles.\n",
        "5. Handle the operator overloading by using a special method to calculate the radius and area of circle 3.                                                           \n",
        "\n",
        "**[You are not allowed to change the code below]**\n",
        "\n",
        "**# Write your code here for subtasks 1-5**\n",
        "    \n",
        "c1 = Circle(4)                                                                     \n",
        "print(\"First circle radius:\" , c1.getRadius())                                     \n",
        "print(\"First circle area:\" ,c1.area())                                               \n",
        " \n",
        "c2 = Circle(5)                                                                     \n",
        "print(\"Second circle radius:\" ,c2.getRadius())                                      \n",
        "print(\"Second circle area:\" ,c2.area())                                          \n",
        " \n",
        "c3 = c1 + c2                                                                                                                                                                           \n",
        "print(\"Third circle radius:\" ,c3.getRadius())                                        \n",
        "print(\"Third circle area:\" ,c3.area())                                              \n",
        "\n",
        "**Output:**                                                                         \n",
        "First circle radius: 4                                                              \n",
        "First circle area: 50.26548245743669                                                 \n",
        "Second circle radius: 5                                                                \n",
        "Second circle area: 78.53981633974483                                              \n",
        "Third circle radius: 9                                                                \n",
        "Third circle area: 254.46900494077323      \n"
      ]
    },
    {
      "cell_type": "code",
      "execution_count": null,
      "metadata": {
        "id": "_6y1vdxM9QpS",
        "colab": {
          "base_uri": "https://localhost:8080/"
        },
        "outputId": "9730af3b-5536-4412-fc92-670ec79ea221"
      },
      "outputs": [
        {
          "output_type": "stream",
          "name": "stdout",
          "text": [
            "First circle radius: 4\n",
            "First circle area: 50.26548245743669\n",
            "Second circle radius: 5\n",
            "Second circle area: 78.53981633974483\n",
            "Third circle radius: 9\n",
            "Third circle area: 254.46900494077323\n"
          ]
        }
      ],
      "source": [
        "#todo\n",
        "import math\n",
        "class Circle:\n",
        "      def __init__(self,radius):\n",
        "          self.__radius = radius\n",
        "      def __add__(self,other):\n",
        "          sum = self.__radius+other.__radius\n",
        "          return Circle(sum)\n",
        "\n",
        "      def setRadius(self,x):\n",
        "          self.__radius = x\n",
        "      def getRadius(self): \n",
        "          return self.__radius\n",
        "      def area(self):\n",
        "          return math.pi*(self.__radius**2)\n",
        "\n",
        "c1 = Circle(4)\n",
        "print(\"First circle radius:\" , c1.getRadius())\n",
        "print(\"First circle area:\" ,c1.area())\n",
        "\n",
        "c2 = Circle(5)\n",
        "print(\"Second circle radius:\" ,c2.getRadius())\n",
        "print(\"Second circle area:\" ,c2.area())\n",
        "\n",
        "c3 = c1 + c2\n",
        "print(\"Third circle radius:\" ,c3.getRadius())\n",
        "print(\"Third circle area:\" ,c3.area())"
      ]
    },
    {
      "cell_type": "markdown",
      "metadata": {
        "id": "OTDeXG619SGD"
      },
      "source": [
        "#**Task 6** \n",
        "Write a class called **Triangle** with the required constructor and methods to get the following output.                                                              \n",
        "**Subtasks:**\n",
        "1. Create a class called Triangle.\n",
        "2. Create the required constructor. Use Encapsulation to protect the variables.     **[Hint: Assign the variables in private]**\n",
        "3. Create getBase(), getHeight(), setBase and setHeight() method to access variables.  \n",
        "4. Create a method called area to calculate the area of triangles.\n",
        "5. Handle the operator overloading by using a special method to calculate the radius and area of triangle 3.\n",
        "\n",
        "**[You are not allowed to change the code below]**                                 \n",
        "***# Write your code here for subtasks 1-5***\n",
        "     \n",
        "t1 = Triangle(10, 5)                                                                \n",
        "print(\"First Triangle Base:\" , t1.getBase())                                               \n",
        "print(\"First Triangle Height:\" , t1.getHeight())                                      \n",
        "print(\"First Triangle area:\" ,t1.area())                                             \n",
        " \n",
        "t2 = Triangle(5, 3)                                                                   \n",
        "print(\"Second Triangle Base:\" , t2.getBase())                                        \n",
        "print(\"Second Triangle Height:\" , t2.getHeight())                                     \n",
        "print(\"Second Triangle area:\" ,t2.area())                                            \n",
        " \n",
        "t3 = t1 - t2                                                                        \n",
        "print(\"Third Triangle Base:\" , t3.getBase())                                           \n",
        "print(\"Third Triangle Height:\" , t3.getHeight())                                  \n",
        "print(\"Third Triangle area:\" ,t3.area())                                               \n",
        "\n",
        "**Output:**                                                                      \n",
        "First Triangle Base: 10                                                          \n",
        "First Triangle Height: 5                                                              \n",
        "First Triangle area: 25.0                                                           \n",
        "Second Triangle Base: 5                                                             \n",
        "Second Triangle Height: 3                                                            \n",
        "Second Triangle area: 7.5                                                           \n",
        "Third Triangle Base: 5                                                              \n",
        "Third Triangle Height: 2                                                           \n",
        "Third Triangle area: 5.0     \n"
      ]
    },
    {
      "cell_type": "code",
      "source": [
        "#todo\n",
        "\n",
        "class Triangle:\n",
        "      def __init__(self,base,height):\n",
        "          self.__base = base\n",
        "          self.__height = height\n",
        "      def __sub__(self,other):\n",
        "          __base = self.__base-other.__base\n",
        "          __height = self.__height-other.__height\n",
        "          return Triangle(__base,__height)\n",
        "\n",
        "      def setBase(self,x):\n",
        "          self.__base = x\n",
        "      def setHeight(self,x):\n",
        "          self.__height = x\n",
        "      def getBase(self): \n",
        "          return self.__base\n",
        "      def getHeight(self): \n",
        "          return self.__height\n",
        "      \n",
        "      def area(self):\n",
        "          return (0.5*self.__height*self.__base)\n",
        "\n",
        "t1 = Triangle(10, 5)\n",
        "print(\"First Triangle Base:\" , t1.getBase())\n",
        "print(\"First Triangle Height:\" , t1.getHeight())\n",
        "print(\"First Triangle area:\" ,t1.area())\n",
        "\n",
        "t2 = Triangle(5, 3)\n",
        "print(\"Second Triangle Base:\" , t2.getBase())\n",
        "print(\"Second Triangle Height:\" , t2.getHeight())\n",
        "print(\"Second Triangle area:\" ,t2.area())\n",
        "\n",
        "t3 = t1 - t2\n",
        "print(\"Third Triangle Base:\" , t3.getBase())\n",
        "print(\"Third Triangle Height:\" , t3.getHeight())\n",
        "print(\"Third Triangle area:\" ,t3.area())\n",
        "      "
      ],
      "metadata": {
        "id": "CTgVbp3n015r",
        "colab": {
          "base_uri": "https://localhost:8080/"
        },
        "outputId": "59a75824-31cd-4bd8-a093-389b66087b71"
      },
      "execution_count": null,
      "outputs": [
        {
          "output_type": "stream",
          "name": "stdout",
          "text": [
            "First Triangle Base: 10\n",
            "First Triangle Height: 5\n",
            "First Triangle area: 25.0\n",
            "Second Triangle Base: 5\n",
            "Second Triangle Height: 3\n",
            "Second Triangle area: 7.5\n",
            "Third Triangle Base: 5\n",
            "Third Triangle Height: 2\n",
            "Third Triangle area: 5.0\n"
          ]
        }
      ]
    },
    {
      "cell_type": "markdown",
      "metadata": {
        "id": "af4mQrhM-L1j"
      },
      "source": [
        "#**Task 7**\n",
        "Observe the given code carefully. Try to understand from the given code and the outputs what to write in your class Dolls.  \n",
        "**# Write your code here**\n",
        "\n",
        "\n",
        "\n",
        "```\n",
        "obj_1 = Dolls(\"Tweety\", 2500)\n",
        "print(obj_1.detail())\n",
        "if obj_1 > obj_1:\n",
        "    print(\"Congratulations! You get the Tweety as a gift!\")\n",
        "else:\n",
        "    print(\"Thank you!\")\n",
        "\n",
        "print(\"=========================\")\n",
        "obj_2 = Dolls(\"Daffy Duck\", 1800) \n",
        "print(obj_2.detail())\n",
        "if obj_2 > obj_1:\n",
        "    print(\"Congratulations! You get the Tweety as a gift!\") #true\n",
        "else:\n",
        "    print(\"Thank you!\") #false\n",
        "\n",
        "print(\"=========================\")\n",
        "obj_3 = Dolls(\"Bugs Bunny\", 3000)\n",
        "print(obj_3.detail())\n",
        "if obj_3 > obj_1:\n",
        "    print(\"Congratulations! You get the Tweety as a gift!\")\n",
        "else:\n",
        "    print(\"Thank you!\")\n",
        "\n",
        "print(\"=========================\")\n",
        "obj_4 = Dolls(\"Porky Pig\", 1500)\n",
        "print(obj_4.detail())\n",
        "if obj_4 > obj_1:\n",
        "    print(\"Congratulations! You get the Tweety as a gift!\")\n",
        "else:\n",
        "    print(\"Thank you!\")\n",
        "\n",
        "print(\"=========================\")\n",
        "obj_5 = obj_2 + obj_3\n",
        "print(obj_5.detail())\n",
        "if obj_5 > obj_1:\n",
        "    print(\"Congratulations! You get the Tweety as a gift!\")\n",
        "else:\n",
        "    print(\"Thank you!\")\n",
        "\n",
        "```\n",
        "\n",
        "\n",
        "Output:\n",
        "\n",
        "Doll: Tweety\n",
        "\n",
        "Total Price: 2500 taka\n",
        "\n",
        "Thank you!\n",
        "\n",
        "=========================\n",
        "\n",
        "Doll: Daffy Duck\n",
        "\n",
        "Total Price: 1800 taka\n",
        "\n",
        "Thank you!\n",
        "\n",
        "=========================\n",
        "\n",
        "Doll: Bugs Bunny\n",
        "\n",
        "Total Price: 3000 taka\n",
        "\n",
        "Congratulations! You get the Tweety as a gift!\n",
        "\n",
        "=========================\n",
        "\n",
        "Doll: Porky Pig\n",
        "\n",
        "Total Price: 1500 taka\n",
        "\n",
        "Thank you!\n",
        "\n",
        "=========================\n",
        "\n",
        "Dolls: Daffy Duck Bugs Bunny\n",
        "\n",
        "Total Price: 4800 taka\n",
        "\n",
        "Congratulations! You get the Tweety as a gift!\n",
        "\n",
        "\n",
        "\n",
        "\n"
      ]
    },
    {
      "cell_type": "code",
      "source": [
        "#todo\n",
        "class Dolls:\n",
        "    def __init__(self, name, price):\n",
        "        self.name = name\n",
        "        self.price = price\n",
        "\n",
        "    def detail(self):\n",
        "        lst = self.name.split()\n",
        "\n",
        "        if len(lst) <= 2:\n",
        "            return f\"Doll: {self.name} \\nTotal price: {str(self.price)} taka\"\n",
        "        else:\n",
        "            return f\"Dolls: {self.name} \\nTotal price: {str(self.price)} taka\"\n",
        "\n",
        "    def __gt__(self, other): #self-obj2 #other-obj1\n",
        "        if self.price > other.price:\n",
        "            return True\n",
        "        else:\n",
        "            return False\n",
        "\n",
        "    def __add__(self, other):\n",
        "        \n",
        "        var1 = self.name + \" \" + other.name\n",
        "        var2 = self.price + other.price\n",
        "        return Dolls(var1, var2) \n",
        "\n",
        "##############\n",
        "\n",
        "obj_1 = Dolls(\"Tweety\", 2500)\n",
        "print(obj_1.detail())\n",
        "if obj_1 > obj_1:\n",
        "    print(\"Congratulations! You get the Tweety as a gift!\")\n",
        "else:\n",
        "    print(\"Thank you!\")\n",
        "\n",
        "print(\"=========================\")\n",
        "obj_2 = Dolls(\"Daffy Duck\", 1800) \n",
        "print(obj_2.detail())\n",
        "if obj_2 > obj_1:\n",
        "    print(\"Congratulations! You get the Tweety as a gift!\")\n",
        "else:\n",
        "    print(\"Thank you!\")\n",
        "\n",
        "print(\"=========================\")\n",
        "obj_3 = Dolls(\"Bugs Bunny\", 3000)\n",
        "print(obj_3.detail())\n",
        "if obj_3 > obj_1:\n",
        "    print(\"Congratulations! You get the Tweety as a gift!\")\n",
        "else:\n",
        "    print(\"Thank you!\")\n",
        "\n",
        "print(\"=========================\")\n",
        "obj_4 = Dolls(\"Porky Pig\", 1500)\n",
        "print(obj_4.detail())\n",
        "if obj_4 > obj_1:\n",
        "    print(\"Congratulations! You get the Tweety as a gift!\")\n",
        "else:\n",
        "    print(\"Thank you!\")\n",
        "\n",
        "print(\"=========================\")\n",
        "obj_5 = obj_2 + obj_3\n",
        "print(obj_5.detail())\n",
        "if obj_5 > obj_1:\n",
        "    print(\"Congratulations! You get the Tweety as a gift!\")\n",
        "else:\n",
        "    print(\"Thank you!\")\n"
      ],
      "metadata": {
        "colab": {
          "base_uri": "https://localhost:8080/"
        },
        "id": "HcWGIEB23fV4",
        "outputId": "f8e04ad2-55f2-4cdb-8e25-cc0ea3b9e1f6"
      },
      "execution_count": null,
      "outputs": [
        {
          "output_type": "stream",
          "name": "stdout",
          "text": [
            "Doll: Tweety \n",
            "Total price: 2500 taka\n",
            "Thank you!\n",
            "=========================\n",
            "Doll: Daffy Duck \n",
            "Total price: 1800 taka\n",
            "Thank you!\n",
            "=========================\n",
            "Doll: Bugs Bunny \n",
            "Total price: 3000 taka\n",
            "Congratulations! You get the Tweety as a gift!\n",
            "=========================\n",
            "Doll: Porky Pig \n",
            "Total price: 1500 taka\n",
            "Thank you!\n",
            "=========================\n",
            "Dolls: Daffy Duck Bugs Bunny \n",
            "Total price: 4800 taka\n",
            "Congratulations! You get the Tweety as a gift!\n"
          ]
        }
      ]
    },
    {
      "cell_type": "code",
      "source": [
        "class Dolls:\n",
        "    def __init__(self, name, price):\n",
        "        self.name = name\n",
        "        self.price = price\n",
        "\n",
        "    def detail(self):\n",
        "        \n",
        "        return f\"Doll: {self.name} \\nTotal price: {self.price} taka\"\n",
        "        \n",
        "\n",
        "    def __gt__(self, other): #self-obj2 #other-obj1\n",
        "        if self.price > other.price:\n",
        "            return True\n",
        "        else:\n",
        "            return False\n",
        "\n",
        "    def __add__(self, other):\n",
        "        \n",
        "        var1 = self.name + \" \" + other.name\n",
        "        var2 = self.price + other.price\n",
        "        return Dolls(var1, var2) \n",
        "\n",
        "##############\n",
        "\n",
        "obj_1 = Dolls(\"Tweety\", 2500)\n",
        "print(obj_1.detail())\n",
        "if obj_1 > obj_1:\n",
        "    print(\"Congratulations! You get the Tweety as a gift!\")\n",
        "else:\n",
        "    print(\"Thank you!\")\n",
        "\n",
        "print(\"=========================\")\n",
        "obj_2 = Dolls(\"Daffy Duck\", 1800) \n",
        "print(obj_2.detail())\n",
        "if obj_2 > obj_1:\n",
        "    print(\"Congratulations! You get the Tweety as a gift!\")\n",
        "else:\n",
        "    print(\"Thank you!\")\n",
        "\n",
        "print(\"=========================\")\n",
        "obj_3 = Dolls(\"Bugs Bunny\", 3000)\n",
        "print(obj_3.detail())\n",
        "if obj_3 > obj_1:\n",
        "    print(\"Congratulations! You get the Tweety as a gift!\")\n",
        "else:\n",
        "    print(\"Thank you!\")\n",
        "\n",
        "print(\"=========================\")\n",
        "obj_4 = Dolls(\"Porky Pig\", 1500)\n",
        "print(obj_4.detail())\n",
        "if obj_4 > obj_1:\n",
        "    print(\"Congratulations! You get the Tweety as a gift!\")\n",
        "else:\n",
        "    print(\"Thank you!\")\n",
        "\n",
        "print(\"=========================\")\n",
        "obj_5 = obj_2 + obj_3\n",
        "print(obj_5.detail())\n",
        "if obj_5 > obj_1:\n",
        "    print(\"Congratulations! You get the Tweety as a gift!\")\n",
        "else:\n",
        "    print(\"Thank you!\")"
      ],
      "metadata": {
        "colab": {
          "base_uri": "https://localhost:8080/"
        },
        "id": "vDwY_0rrGmit",
        "outputId": "b0b399ae-f10b-48ae-8696-2c3c8d27db3d"
      },
      "execution_count": null,
      "outputs": [
        {
          "output_type": "stream",
          "name": "stdout",
          "text": [
            "Doll: Tweety \n",
            "Total price: 2500 taka\n",
            "Thank you!\n",
            "=========================\n",
            "Doll: Daffy Duck \n",
            "Total price: 1800 taka\n",
            "Thank you!\n",
            "=========================\n",
            "Doll: Bugs Bunny \n",
            "Total price: 3000 taka\n",
            "Congratulations! You get the Tweety as a gift!\n",
            "=========================\n",
            "Doll: Porky Pig \n",
            "Total price: 1500 taka\n",
            "Thank you!\n",
            "=========================\n",
            "Doll: Daffy Duck Bugs Bunny \n",
            "Total price: 4800 taka\n",
            "Congratulations! You get the Tweety as a gift!\n"
          ]
        }
      ]
    },
    {
      "cell_type": "code",
      "source": [
        "x = \"i_study_in_brac\"\n",
        "lst = x.split(\"_\")\n",
        "print(lst)"
      ],
      "metadata": {
        "colab": {
          "base_uri": "https://localhost:8080/"
        },
        "id": "WiX6dByUCxoN",
        "outputId": "0208f93c-064f-4406-900b-8d04f26af144"
      },
      "execution_count": null,
      "outputs": [
        {
          "output_type": "stream",
          "name": "stdout",
          "text": [
            "['i', 'study', 'in', 'brac']\n"
          ]
        }
      ]
    },
    {
      "cell_type": "code",
      "source": [],
      "metadata": {
        "colab": {
          "base_uri": "https://localhost:8080/"
        },
        "id": "k-KZfUP6E8-I",
        "outputId": "3bb79ac1-455c-401b-93a3-8ab6a9f48d5a"
      },
      "execution_count": null,
      "outputs": [
        {
          "output_type": "stream",
          "name": "stdout",
          "text": [
            "sn\n",
            "Prottasha\n",
            "Prottashasn\n"
          ]
        }
      ]
    },
    {
      "cell_type": "markdown",
      "source": [
        "#**Task 8**\n",
        "Design a class called **Coordinates** with an appropriate constructor. Then perform the subtraction, multiplication and equality check operations in the given code using operator overloading.\n",
        "\n",
        "**#Write your code here**\n",
        "\n",
        "***#Do not change the following lines of code***\n",
        "\n",
        "p1 = Coordinates(int(input()),int(input()))                                      \n",
        "p2 = Coordinates(int(input()),int(input()))                                       \n",
        "\n",
        "p4 = p1 - p2                                                                       \n",
        "print(p4.detail())\n",
        "\n",
        "p5 = p1 * p2                                                                      \n",
        "print(p5.detail())\n",
        "\n",
        "point_check = (p4 == p5)                                                         \n",
        "print(point_check)                                                                  \n",
        "**Sample Input 1:**                                                              \n",
        "1                                                                                    \n",
        "2                                                                                    \n",
        "3                                                                                  \n",
        "4                                                                                   \n",
        "**Sample Output 1:**\n",
        "(-2,-2)                                                                          \n",
        "(3,8)                                                                                 \n",
        "The calculated coordinates are NOT the same.                                        \n",
        "**Sample Input 2:**                                                                  \n",
        "0                                                                                 \n",
        "0                                                                                  \n",
        "0                                                                                   \n",
        "0                                                                                 \n",
        "**Sample Output 2:**                                                               \n",
        "(0,0)                                                                                    \n",
        "(0,0)                                                                                 \n",
        "The calculated coordinates are the same.\n",
        "\n"
      ],
      "metadata": {
        "id": "MbfOapuw3fqn"
      }
    },
    {
      "cell_type": "code",
      "source": [
        "#todo\n",
        "class Coordinates:\n",
        "     def __init__(self,x1,x2):\n",
        "         self.x1 =x1\n",
        "         self.x2 =x2\n",
        "     def detail(self):\n",
        "         return (self.x1, self.x2)\n",
        "     def __sub__(self,other):\n",
        "         a= self.x1-other.x1\n",
        "         b = self.x2-other.x2\n",
        "         return Coordinates(a,b)\n",
        "     def __mul__(self, other):\n",
        "         c = self.x1 * other.x1\n",
        "         d = self.x2 * other.x2\n",
        "         return Coordinates(c, d)\n",
        "     def __eq__(self, other):\n",
        "         if self.x1 == other.x1 and self.x2 == other.x2:\n",
        "            return \"The calculated coordinates are the same.\"\n",
        "         else:\n",
        "            return \"The calculated coordinates are NOT the same.\"\n",
        "    \n",
        "p1 = Coordinates(int(input(\"enter the 1st cordinate:\")),int(input(\"enter the 2nd cordinate:\")))\n",
        "p2 = Coordinates(int(input(\"enter the 1st cordinate:\")),int(input(\"enter the 2nd cordinate:\")))\n",
        "\n",
        "p4 = p1 - p2\n",
        "print(p4.detail())\n",
        "\n",
        "p5 = p1 * p2\n",
        "print(p5.detail())\n",
        "\n",
        "point_check = (p4 == p5)\n",
        "print(point_check)"
      ],
      "metadata": {
        "colab": {
          "base_uri": "https://localhost:8080/"
        },
        "id": "1PVJuRyP4Two",
        "outputId": "be2b6597-eec6-4efb-8a55-2e583379605a"
      },
      "execution_count": null,
      "outputs": [
        {
          "output_type": "stream",
          "name": "stdout",
          "text": [
            "enter the 1st cordinate:0\n",
            "enter the 2nd cordinate:0\n",
            "enter the 1st cordinate:0\n",
            "enter the 2nd cordinate:0\n",
            "(0, 0)\n",
            "(0, 0)\n",
            "The calculated coordinates are the same.\n"
          ]
        }
      ]
    },
    {
      "cell_type": "code",
      "source": [
        "a =(1,2)\n",
        "a"
      ],
      "metadata": {
        "colab": {
          "base_uri": "https://localhost:8080/"
        },
        "id": "wKh9fXx-IvM_",
        "outputId": "47d12dd0-06b0-46b9-ff10-3b9b8c83b395"
      },
      "execution_count": null,
      "outputs": [
        {
          "output_type": "execute_result",
          "data": {
            "text/plain": [
              "(1, 2)"
            ]
          },
          "metadata": {},
          "execution_count": 13
        }
      ]
    }
  ],
  "metadata": {
    "colab": {
      "collapsed_sections": [],
      "provenance": []
    },
    "kernelspec": {
      "display_name": "Python 3",
      "name": "python3"
    },
    "language_info": {
      "name": "python"
    }
  },
  "nbformat": 4,
  "nbformat_minor": 0
}