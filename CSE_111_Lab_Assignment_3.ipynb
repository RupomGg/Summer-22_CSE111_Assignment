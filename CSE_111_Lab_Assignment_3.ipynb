{
  "nbformat": 4,
  "nbformat_minor": 0,
  "metadata": {
    "colab": {
      "provenance": []
    },
    "kernelspec": {
      "name": "python3",
      "display_name": "Python 3"
    },
    "language_info": {
      "name": "python"
    }
  },
  "cells": [
    {
      "cell_type": "markdown",
      "source": [
        "##**Task 1**\n",
        "Suppose your little sibling wants your help to check his math homework. He is done with his homework but wants you to see if all his results are correct. Since the student with all correct results gets 3 stars. However, you want your brother to check this on his own. So, you design a calculator for him in python. You could have given your scientific calculator but you wanted to give him a basic calculator and also wanted to see if you can even design one.            \n",
        "**Subtasks:**                                                                    \n",
        "**1.**Create a class called Calculator.                                               \n",
        "**2.**Your class shall have 1 constructor and 4 methods, namely add, subtract, multiply and divide.                                                             \n",
        "**3.**Now, create an object of your class. After creating an object, it should print “Let’s Calculate!”                                                         \n",
        "**4.**Then take 3 inputs from the user: first value, operator, second value      \n",
        "**5.**Now based on the given operator, call the required method and print the result.\n",
        "**Sample Input:**\n",
        "\n",
        "1\n",
        "\n",
        "+\n",
        "\n",
        "2\n",
        "\n",
        "**Sample Output:**                                                               \n",
        "Let’s Calculate!                                                                  \n",
        "Value 1: 1                                                                             \n",
        "Operator: +                                                                        \n",
        "Value 2: 2                                                                          \n",
        "Result:  3\n"
      ],
      "metadata": {
        "id": "qCHXiw4dfyps"
      }
    },
    {
      "cell_type": "code",
      "execution_count": null,
      "metadata": {
        "colab": {
          "base_uri": "https://localhost:8080/"
        },
        "id": "bEKasK8ifYzv",
        "outputId": "cdbe5c9e-b619-47cb-ec75-02790cd48964"
      },
      "outputs": [
        {
          "output_type": "stream",
          "name": "stdout",
          "text": [
            "Enter The Number One:2\n",
            "Enter The Operator:+\n",
            "Enter The Number Two:3\n",
            "Let's Calculate!\n",
            "Value 1: 2\n",
            "Operator: +\n",
            "Value 2: 3 \n",
            "Result:  5\n"
          ]
        }
      ],
      "source": [
        "#todo\n",
        "class Calculator:\n",
        "    def __init__(self,num1, num2):\n",
        "        print(\"Let's Calculate!\")\n",
        "        self.num1 = num1\n",
        "        self.num2 = num2\n",
        "\n",
        "    def add(self):\n",
        "        return self.num1+self.num2\n",
        "\n",
        "    def subtract(self):\n",
        "        return self.num1-self.num2\n",
        "\n",
        "    def multiply(self):\n",
        "        return self.num1*self.num2\n",
        "\n",
        "    def divide(self):\n",
        "        return self.num1/self.num2\n",
        "\n",
        "#====================================================\n",
        "num1= int(input(\"Enter The Number One:\"))\n",
        "operator = input(\"Enter The Operator:\")\n",
        "num2 = int(input(\"Enter The Number Two:\"))\n",
        "\n",
        "calculate1 = Calculator(num1,num2)\n",
        "\n",
        "print(f\"Value 1: {num1}\\nOperator: {operator}\\nValue 2: {num2} \")\n",
        "\n",
        "\n",
        "if operator == \"+\":\n",
        "  print(\"Result: \",calculate1.add())\n",
        "elif operator == \"-\":\n",
        "  print(\"Result: \",calculate1.subtract())\n",
        "elif operator == \"*\":\n",
        "  print(\"Result: \",calculate1.multiply())\n",
        "else:\n",
        "  print(\"Result: \", calculate1.divide())\n",
        "\n",
        "    "
      ]
    },
    {
      "cell_type": "markdown",
      "source": [
        "##**Task 2**\n",
        "**Implement** the design of the **Course** class so that the following output is produced:\n",
        "###**Driver Code**\n",
        "\n",
        "***#Write your code here***\n",
        "\n",
        "c1 = Course(\"CSE110\", \"TBA\", 8)                                                  \n",
        "c1.detail()                                                                       \n",
        "c2 = Course(\"CSE111\", \"TBA\", 9)                                                      \n",
        "c2.detail()                                                                      \n",
        "###**Output**                                             \n",
        "CSE110 - TBA - 8\n",
        "\n",
        "===============\n",
        "\n",
        "CSE111 - TBA - 9\n",
        "\n",
        "\n"
      ],
      "metadata": {
        "id": "7b4VclEZgvM0"
      }
    },
    {
      "cell_type": "code",
      "source": [
        "#todo\n",
        "class Course:\n",
        "  def __init__(self,course1,faculty,sec):\n",
        "      self.course1 = course1\n",
        "      self.faculty = faculty\n",
        "      self.sec= sec\n",
        "  def detail(self):\n",
        "      print(f\"{self.course1}-{self.faculty}-{self.sec}\")\n",
        "\n",
        "#=========================================================\n",
        "\n",
        "\n",
        "c1 = Course(\"CSE110\", \"TBA\", 8)\n",
        "c1.detail()\n",
        "print('===============')\n",
        "c2 = Course(\"CSE111\", \"TBA\", 9)\n",
        "c2.detail()        \n",
        "        \n",
        "             \n"
      ],
      "metadata": {
        "colab": {
          "base_uri": "https://localhost:8080/"
        },
        "id": "Q0XLRTpAiNlu",
        "outputId": "f978589e-7321-4b49-a70c-073affedb16c"
      },
      "execution_count": null,
      "outputs": [
        {
          "output_type": "stream",
          "name": "stdout",
          "text": [
            "CSE110-TBA-8\n",
            "===============\n",
            "CSE111-TBA-9\n"
          ]
        }
      ]
    },
    {
      "cell_type": "markdown",
      "source": [
        "##**Task-03**\n",
        "**Implement** the design of the **Patient** class so that the following output is produced:                                                                       \n",
        "**[For BMI, the formula is BMI = weight/height^2, where weight is in kg and height in meters]**\n",
        "##**Driver Code** \n",
        "***#Write your code here***                                                      \n",
        "p1 = Patient(\"A\", 55, 63.0, 158.0)                                               \n",
        "p1.printDetails()                                                                \n",
        "print(\"====================\")                                                       \n",
        "p2 = Patient(\"B\", 53, 61.0, 149.0)                                                \n",
        "p2.printDetails()\n",
        "##**Output**\n",
        "Name: A                                                                          \n",
        "Age: 55                                                                            \n",
        "Weight: 63.0 kg                                                                    \n",
        "Height: 158.0 cm                                                                    \n",
        "BMI: 25.236340330075304\n",
        "\n",
        "====================                                                               \n",
        "Name: B                                                                             \n",
        "Age: 53                                                                             \n",
        "Weight: 61.0 kg                                                                    \n",
        "Height: 149.0 cm                                                                   \n",
        "BMI: 27.476239809017613\n",
        "\n"
      ],
      "metadata": {
        "id": "QgjmcJadiO2l"
      }
    },
    {
      "cell_type": "code",
      "source": [
        "#todo\n",
        "class Patient:\n",
        "  def __init__(self,name, age, weight, height):\n",
        "    self.name = name\n",
        "    self.age = age\n",
        "    self.weight = weight\n",
        "    self.height = height\n",
        "    self.bmi = weight/(height/100)**2\n",
        "  def printDetails(self):\n",
        "    print(f\"Name: {self.name}\\nAge: {self.age}\\nWeight: {self.weight}\\nHeight: {self.height}\\nBMI: {self.bmi}\")\n",
        "\n",
        "#======================================================\n",
        "p1 = Patient(\"A\", 55, 63.0, 158.0)\n",
        "p1.printDetails()\n",
        "print(\"====================\")\n",
        "p2 = Patient(\"B\", 53, 61.0, 149.0)\n",
        "p2.printDetails()\n"
      ],
      "metadata": {
        "colab": {
          "base_uri": "https://localhost:8080/"
        },
        "id": "Vd9ZvAoVn37t",
        "outputId": "908da5ff-a319-4f55-d71b-5f3b0a8c3d08"
      },
      "execution_count": null,
      "outputs": [
        {
          "output_type": "stream",
          "name": "stdout",
          "text": [
            "Name: A\n",
            "Age: 55\n",
            "weight: 63.0\n",
            "Height: 158.0\n",
            "BMI: 25.236340330075304\n",
            "====================\n",
            "Name: B\n",
            "Age: 53\n",
            "weight: 61.0\n",
            "Height: 149.0\n",
            "BMI: 27.476239809017613\n"
          ]
        }
      ]
    },
    {
      "cell_type": "markdown",
      "source": [
        "##**Task-04**\n",
        "Design a **“Vehicle”** class. A vehicle assumes that the whole world is a 2-dimensional graph paper. It maintains its x and y coordinates (both are integers). Any new object created of the Vehicle class will always start at the coordinates (0,0).\n",
        "\n",
        "It must have methods to move up, down, left, right and a print_position() method for printing the current coordinate.\n",
        "\n",
        "Note: All moves are 1 step. That means a single call to any move method changes the value of either x or y or both by 1.                                             \n",
        "**[You are not allowed to change the code below]**\n",
        "\n",
        "***# Write your class here***\n",
        "\n",
        "car = Vehicle()                                                                      \n",
        "car.print_position()                                                              \n",
        "car.moveUp()                                                                     \n",
        "car.print_position()                                                               \n",
        "car.moveLeft()                                                                        \n",
        "car.print_position()                                                               \n",
        "car.moveDown()                                                                   \n",
        "car.print_position()                                                                \n",
        "car.moveRight()                                                                   \n",
        "##**OUTPUT**\n",
        "(0,0)\n",
        "\n",
        "(0,1)\n",
        "\n",
        "(-1,1)\n",
        "\n",
        "(-1,0)\n",
        "\n",
        "\n"
      ],
      "metadata": {
        "id": "aOiKBa7PoeE9"
      }
    },
    {
      "cell_type": "code",
      "source": [
        "#todo\n",
        "class Vehicle:\n",
        "  def __init__(self):\n",
        "    self.x , self.y = 0,0\n",
        "  def moveUp(self):\n",
        "    self.y+=1\n",
        "  def moveDown(self):\n",
        "    self.y-=1\n",
        "  def moveLeft(self):\n",
        "    self.x-=1\n",
        "  def moveRight(self):\n",
        "    self.x+=1\n",
        "  def print_position(self):\n",
        "    print(f\"({self.x},{self.y})\")\n",
        "#================================================\n",
        "car = Vehicle()\n",
        "car.print_position()\n",
        "car.moveUp()\n",
        "car.print_position()\n",
        "car.moveLeft()\n",
        "car.print_position()\n",
        "car.moveDown()\n",
        "car.print_position()\n",
        "car.moveRight()\n"
      ],
      "metadata": {
        "id": "lAjsk7T6ocuO",
        "colab": {
          "base_uri": "https://localhost:8080/"
        },
        "outputId": "58a356d5-4f48-4239-ab28-d9540f5825dc"
      },
      "execution_count": null,
      "outputs": [
        {
          "output_type": "stream",
          "name": "stdout",
          "text": [
            "(0,0)\n",
            "(0,1)\n",
            "(-1,1)\n",
            "(-1,0)\n"
          ]
        }
      ]
    },
    {
      "cell_type": "markdown",
      "source": [
        "##**Task-05**\n",
        "Design a class Shape for the given code below.\n",
        "\n",
        "*   Write a class Shape.\n",
        "*   Write the required constructor that takes 3 parameters and initialize the instance variables accordingly.\n",
        "*   Write a method area() that prints the area.\n",
        "\n",
        "\n",
        "**Hint:** the area method can calculate only for the shapes: Triangle, Rectangle, Rhombus, and Square. So, you have to use conditions inside this method\n",
        "For this task, assume that --\n",
        "*  for a triangle, the arguments passed are the base and height\n",
        "*  for a rhombus, the arguments passed are the diagonals\n",
        "*  for a square or rectangle, the arguments passed are the sides\n",
        "\n",
        "##**Driver Code**\n",
        "***# Write your code here***\n",
        "\n",
        "triangle = Shape(\"Triangle\",10,25)                                                 \n",
        "triangle.area()                                                                  \n",
        "print(\"==========================\")                                                \n",
        "square = Shape(\"Square\",10,10)                                                      \n",
        "square.area()                                                                       \n",
        "print(\"==========================\")                                               \n",
        "rhombus = Shape(\"Rhombus\",18,25)                                                                               \n",
        "rhombus.area()                                                                   \n",
        "print(\"==========================\")                                               \n",
        "rectangle = Shape(\"Rectangle\",15,30)                                                  \n",
        "rectangle.area()                                                                   \n",
        "print(\"==========================\")                                                   \n",
        "trapezium = Shape(\"Trapezium\",15,30)                                                \n",
        "trapezium.area()\n",
        "\n",
        "##**output**\n",
        "Area: 125.0\n",
        "\n",
        "==========================\n",
        "\n",
        "Area: 100\n",
        "\n",
        "==========================\n",
        "\n",
        "Area: 225.0\n",
        "\n",
        "==========================\n",
        "\n",
        "Area: 450\n",
        "\n",
        "==========================\n",
        "\n",
        "Area: Shape unknown \n",
        "\n",
        "\n"
      ],
      "metadata": {
        "id": "wm2f-QtDqEXu"
      }
    },
    {
      "cell_type": "code",
      "source": [
        "#todo\n",
        "class Shape:\n",
        "  def __init__(self, name, val1, val2):\n",
        "    self.name = name\n",
        "    self.val1 = val1\n",
        "    self.val2 = val2\n",
        "  def area(self):\n",
        "    val1 = self.val1\n",
        "    val2 = self.val2\n",
        "    val = 0\n",
        "    if self.name == \"Triangle\":\n",
        "      val = 0.5*val1*val2\n",
        "    elif self.name == 'Square' or self.name == 'Rectangle':\n",
        "      val = val1*val2\n",
        "      \n",
        "    elif self.name == \"Rhombus\":\n",
        "      val = 0.5*val1*val2\n",
        "    \n",
        "    else:\n",
        "      val = \"Shape Unknown\"\n",
        "    print(f'Area : {val}')\n",
        "#=========================================================\n",
        "triangle = Shape(\"Triangle\",10,25)\n",
        "triangle.area()\n",
        "print(\"==========================\")\n",
        "square = Shape(\"Square\",10,10)\n",
        "square.area()\n",
        "print(\"==========================\")\n",
        "rhombus = Shape(\"Rhombus\",18,25)\n",
        "rhombus.area()\n",
        "print(\"==========================\")\n",
        "rectangle = Shape(\"Rectangle\",15,30)\n",
        "rectangle.area()\n",
        "print(\"==========================\")\n",
        "trapezium = Shape(\"Trapezium\",15,30)\n",
        "trapezium.area()\n"
      ],
      "metadata": {
        "id": "H8dGdEoprljv"
      },
      "execution_count": null,
      "outputs": []
    },
    {
      "cell_type": "markdown",
      "source": [
        "##**Task-06**\n",
        "**Implement** the design of the ***Calculator*** class so that the following output is produced:\n",
        "###**Driver Code-**\n",
        "***# Write your code here***                                                       \n",
        "c1 = Calculator()                  \n",
        "print(\"==================\")                                                       \n",
        "val = c1.calculate(10, 20, '+')                                                    \n",
        "print(\"Returned value:\", val)                                                       \n",
        "c1.showCalculation()                                                               \n",
        "print(\"==================\")                                                               \n",
        "val = c1.calculate(val, 10, '-')                                                    \n",
        "print(\"Returned value:\", val)                                                      \n",
        "c1.showCalculation()                                                                    \n",
        "print(\"==================\")                                                        \n",
        "val = c1.calculate(val, 5, '*')                                                      \n",
        "print(\"Returned value:\", val)                                                     \n",
        "c1.showCalculation()                                                               \n",
        "print(\"==================\")                                                          \n",
        "val = c1.calculate(val, 16, '/')                                                    \n",
        "print(\"Returned value:\", val)                                                        \n",
        "c1.showCalculation()\n",
        "\n",
        "###**Output**\n",
        "![Untitled.png](data:image/png;base64,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)"
      ],
      "metadata": {
        "id": "JUIQe2kzr59v"
      }
    },
    {
      "cell_type": "code",
      "source": [
        "#todo\n",
        "class Calculator:\n",
        "      def __init__(self):\n",
        "          print(\"Calculator is ready!\")\n",
        "          \n",
        "      def calculate(self,num1,num2,opo):\n",
        "          self.num1 = num1\n",
        "          self.num2 = num2\n",
        "          self.opo = opo\n",
        "          result= 0\n",
        "          if self.opo == \"+\":\n",
        "             result= self.num1+self.num2\n",
        "             \n",
        "          elif self.opo == \"-\":\n",
        "             result= self.num1-self.num2\n",
        "          elif self.opo ==\"*\":\n",
        "             result = self.num1*self.num2\n",
        "          elif self.opo == \"/\":\n",
        "             result = self.num1/self.num2\n",
        "          return result\n",
        "          \n",
        "     \n",
        "      def showCalculation(self):\n",
        "         result = self.calculate(self.num2,self.num2,self.opo)\n",
        "         print(f'{self.num1}{self.opo}{self.num2}={result}')\n",
        "##############################\n",
        "\n",
        "c1 = Calculator()\n",
        "print(\"==================\")\n",
        "val = c1.calculate(10, 20, '+')\n",
        "print(\"Returned value:\", val)\n",
        "c1.showCalculation()\n",
        "print(\"==================\")\n",
        "val = c1.calculate(val, 10, '-')\n",
        "print(\"Returned value:\", val)\n",
        "c1.showCalculation()\n",
        "print(\"==================\")\n",
        "val = c1.calculate(val, 5, '*')\n",
        "print(\"Returned value:\", val)\n",
        "c1.showCalculation()\n",
        "print(\"==================\")\n",
        "val = c1.calculate(val, 16, '/')\n",
        "print(\"Returned value:\", val)\n",
        "c1.showCalculation()\n",
        "\n",
        "           \n",
        "\n"
      ],
      "metadata": {
        "colab": {
          "base_uri": "https://localhost:8080/"
        },
        "outputId": "4929cc85-2ff8-4559-a0c4-20a04d6fc43c",
        "id": "8eDhqvkY_URW"
      },
      "execution_count": null,
      "outputs": [
        {
          "output_type": "stream",
          "name": "stdout",
          "text": [
            "Calculator is ready!\n",
            "==================\n",
            "Returned value: 0\n",
            "20+20=0\n",
            "==================\n",
            "Returned value: -10\n",
            "10-10=0\n",
            "==================\n",
            "Returned value: -50\n",
            "5*5=25\n",
            "==================\n",
            "Returned value: -3.125\n",
            "16/16=1.0\n"
          ]
        }
      ]
    },
    {
      "cell_type": "markdown",
      "source": [
        "##**Task-07**\n",
        "**Implement** the design of the **Student** class so that the following output is produced:  \n",
        "Assume the credit for each course to be 3. For example: [3.3,4] can be calculated as:                                                                      \n",
        "CGPA = ((3.3 * 3) + (4 * 3)) / 6  \n",
        "\n",
        "[Here, for each course, the grade point is multiplied by 3. Total credit is the number of courses multiplied by 3. Since the example has 2 courses, therefore a total of 6 credits] \n",
        "\n",
        "CGPA = sum of individual (grade point * credit) / total credit \n",
        "\n",
        "Academic Standing Rule: [CGPA>3.80 Highest Distinction, CGPA>3.65 High Distinction, CGPA>3.50 Distinction, CGPA>2.00 Satisfactory, CGPA<2.00 Can’t Graduate]\n",
        "##**Driver Code**\n",
        "***# Write your code here*** \n",
        "\n",
        "s1 = Student('Dora', '15995599','CSE', [4,3.7,3.7,4])                                \n",
        "s1.calculate_CGPA()                                                                \n",
        "print(\"==========================\")                                                 \n",
        "s1.print_details()                                                                    \n",
        "print(\"================ ==========\")                                                \n",
        "s2 = Student('Pingu', '12312322', 'EEE', [1.7,1.3,1.3,1.3,1])                         \n",
        "s2.calculate_CGPA()                                                                    \n",
        "print(\"==========================\")                                                 \n",
        "s2.print_details()                                                                 \n",
        "print(\"==========================\")                                                    \n",
        "s3 = Student('Bob', '13311331', 'CSE', [2,3,3,3.7,2.7,2.7])                           \n",
        "s3.calculate_CGPA()                                                                \n",
        "print(\"==========================\")                                                 \n",
        "s3.print_details()\n",
        "\n",
        "##**Output**\n",
        "![Untitled.png](data:image/png;base64,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)\n"
      ],
      "metadata": {
        "id": "K-TTECBktGM3"
      }
    },
    {
      "cell_type": "code",
      "source": [
        "#todo\n",
        "class Student:\n",
        "      def __init__(self,name,id,dept,course_list):\n",
        "          self.name = name\n",
        "          self.id = id\n",
        "          self.dept = dept\n",
        "          self.course_list = course_list\n",
        "      def calculate_CGPA(self):\n",
        "          print(f\"Name:{self.name},ID:{self.id}\")\n",
        "          print(\"Department:\",self.dept)\n",
        "          cgpa =0\n",
        "          for i in self.course_list:\n",
        "              cgpa=cgpa+(i*3)\n",
        "          cgpa = cgpa/(len(self.course_list)*3)\n",
        "          print(\"CGPA:\",cgpa)\n",
        "          self.cgpa = cgpa\n",
        "\n",
        "      def print_details(self):\n",
        "          if self.cgpa >= 3.80:\n",
        "             print(\"Your academic standing is 'Highest Distinction'\")\n",
        "          elif self.cgpa>=3.65:\n",
        "             print(\"Your academic standing is 'High Distinction'\")\n",
        "          elif self.cgpa>=3.50:\n",
        "             print(\"Your academic standing is 'Distinction'\")\n",
        "          elif self.cgpa>=2.00:\n",
        "             print(\"Your academic standing is 'Satisfactory'\")\n",
        "          elif self.cgpa <2.00:\n",
        "             print(\"Sorry, you cannot graduate\")\n",
        "          \n",
        "          \n",
        "          \n",
        "####################################\n",
        "\n",
        "s1 = Student('Dora', '15995599','CSE', [4,3.7,3.7,4])\n",
        "s1.calculate_CGPA()\n",
        "print(\"==========================\")\n",
        "s1.print_details()\n",
        "print(\"================ ==========\")\n",
        "s2 = Student('Pingu', '12312322', 'EEE', [1.7,1.3,1.3,1.3,1])\n",
        "s2.calculate_CGPA()\n",
        "print(\"==========================\")\n",
        "s2.print_details()\n",
        "print(\"==========================\")\n",
        "s3 = Student('Bob', '13311331', 'CSE', [2,3,3,3.7,2.7,2.7])\n",
        "s3.calculate_CGPA()\n",
        "print(\"==========================\")\n",
        "s3.print_details()"
      ],
      "metadata": {
        "id": "qUpl-CENuJye",
        "colab": {
          "base_uri": "https://localhost:8080/"
        },
        "outputId": "6f9e7140-29d9-4764-c731-f937d14c3812"
      },
      "execution_count": null,
      "outputs": [
        {
          "output_type": "stream",
          "name": "stdout",
          "text": [
            "Name:Dora,ID:15995599\n",
            "Department: CSE\n",
            "CGPA: 3.85\n",
            "==========================\n",
            "Your academic standing is 'Highest Distinction'\n",
            "================ ==========\n",
            "Name:Pingu,ID:12312322\n",
            "Department: EEE\n",
            "CGPA: 1.32\n",
            "==========================\n",
            "Sorry, you cannot graduate\n",
            "==========================\n",
            "Name:Bob,ID:13311331\n",
            "Department: CSE\n",
            "CGPA: 2.85\n",
            "==========================\n",
            "Your academic standing is 'Satisfactory'\n"
          ]
        }
      ]
    },
    {
      "cell_type": "markdown",
      "source": [
        "##**Task-08**\n",
        "Design the **Shinobi** class such a way so that the following code provides the expected output. \n",
        "Hint:\n",
        "*   Write the constructor with appropriate default value for arguments. Set the initial salary and mission to 0.\n",
        "*   Write the changeRank() method with appropriate argument.\n",
        "*   Write the calSalary() method with appropriate argument. Check the following suggestions\n",
        "       *   Update the number of mission from the given argument.\n",
        "       *   If rank ==  'Genin' then salary = #mission * 50\n",
        "       *   If rank ==  'Chunin' then salary = #mission * 100\n",
        "       *   else salary = #mission * 500\n",
        "*   Write the printInfo() method with appropriate printing.\n",
        "\n",
        "**[You are not allowed to change the code below]**                                  \n",
        "***# Write your code here.*** \n",
        "\n",
        "naruto = Shinobi(\"Naruto\", \"Genin\")                                                 \n",
        "naruto.calSalary(5)                                                                  \n",
        "naruto.printInfo()                                                                    \n",
        "print('====================')                                                        \n",
        "shikamaru = Shinobi('Shikamaru', \"Genin\")                                             \n",
        "shikamaru.printInfo()                                                               \n",
        "shikamaru.changeRank(\"Chunin\")                                                      \n",
        "shikamaru.calSalary(10)                                                              \n",
        "shikamaru.printInfo()                                                                \n",
        "print('====================')                                                        \n",
        "neiji = Shinobi(\"Neiji\", \"Jonin\")                                                      \n",
        "neiji.calSalary(5)                                                                 \n",
        "neiji.printInfo()\n",
        "###**Output**\n",
        "![Untitled.png](data:image/png;base64,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)\n",
        "\n"
      ],
      "metadata": {
        "id": "GOuLfO78uL9_"
      }
    },
    {
      "cell_type": "code",
      "source": [
        "#todo\n",
        "class Shinobi:\n",
        "      def __init__(self,name,rank,mission=0,salary=0):\n",
        "          self.name = name\n",
        "          self.rank = rank\n",
        "          self.mission = mission\n",
        "          self.salary = salary\n",
        "      def changeRank(self,new_rank):\n",
        "          self.rank = new_rank\n",
        "      def calSalary(self,var):\n",
        "          self.mission = var\n",
        "          if self.rank == 'Genin':\n",
        "             self.salary = var*50\n",
        "          if self.rank == 'Chunin':\n",
        "             self.salary = var*100\n",
        "          else:\n",
        "             self.salary = var*500\n",
        "       \n",
        "      def printInfo(self):\n",
        "             print(f\"Name: {self.name} \\nRank: {self.rank} \\nNumber of mission: {self.mission} \\nSalary: {self.salary}\")\n",
        "\n",
        "###################################################\n",
        "\n",
        "naruto = Shinobi(\"Naruto\", \"Genin\")\n",
        "naruto.calSalary(5)\n",
        "naruto.printInfo()\n",
        "print('====================')\n",
        "shikamaru = Shinobi('Shikamaru', \"Genin\")\n",
        "shikamaru.printInfo()\n",
        "shikamaru.changeRank(\"Chunin\")\n",
        "shikamaru.calSalary(10)\n",
        "shikamaru.printInfo()\n",
        "print('====================')\n",
        "neiji = Shinobi(\"Neiji\", \"Jonin\")\n",
        "neiji.calSalary(5)\n",
        "neiji.printInfo()\n"
      ],
      "metadata": {
        "id": "k34QUuHmvugL",
        "colab": {
          "base_uri": "https://localhost:8080/"
        },
        "outputId": "d1e64260-0ec1-4c08-f29a-7284624d3355"
      },
      "execution_count": null,
      "outputs": [
        {
          "output_type": "stream",
          "name": "stdout",
          "text": [
            "Name: Naruto \n",
            "Rank: Genin \n",
            "Number of mission: 5 \n",
            "Salary: 2500\n",
            "====================\n",
            "Name: Shikamaru \n",
            "Rank: Genin \n",
            "Number of mission: 0 \n",
            "Salary: 0\n",
            "Name: Shikamaru \n",
            "Rank: Chunin \n",
            "Number of mission: 10 \n",
            "Salary: 1000\n",
            "====================\n",
            "Name: Neiji \n",
            "Rank: Jonin \n",
            "Number of mission: 5 \n",
            "Salary: 2500\n"
          ]
        }
      ]
    },
    {
      "cell_type": "markdown",
      "source": [
        "##**Task-09**\n",
        "Design the **Programmer** class such a way so that the following code provides the expected output.\n",
        "\n",
        "Hint:\n",
        "* Write the constructor with appropriate printing and multiple arguments.\n",
        "* Write the addExp() method with appropriate printing and argument.\n",
        "* Write the prinDetails() method\n",
        "\n",
        "**[You are not allowed to change the code below]**\n",
        "\n",
        "***#Write your code here.***                                                \n",
        "p1 = Programmer(\"Ethen Hunt\", \"Java\", 10)                                    \n",
        "p1.printDetails()                                                              \n",
        "print('--------------------------')                                      \n",
        "p2 = Programmer(\"James Bond\", \"C++\", 7)                                  \n",
        "p2.printDetails()                                                           \n",
        "print('--------------------------')                                         \n",
        "p3 = Programmer(\"Jon Snow\", \"Python\", 4)                                       \n",
        "p3.printDetails()                                                             \n",
        "p3.addExp(5)                                                                   \n",
        "p3.printDetails() \n",
        "\n",
        "![images_1.png](data:image/png;base64,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)\n",
        "\n"
      ],
      "metadata": {
        "id": "fzbCGhKbvwRL"
      }
    },
    {
      "cell_type": "code",
      "source": [
        "#todo\n",
        "class Programmer:\n",
        "      def __init__(self,name,language,exp):\n",
        "          self.name =  name\n",
        "          self.language = language\n",
        "          self.exp = exp\n",
        "          self.flag = True\n",
        "      def addExp(self,new_exp):\n",
        "          self.flag = False\n",
        "          print(f\"Updating experience of{self.name}\")\n",
        "          self.exp += new_exp\n",
        "      def printDetails(self):\n",
        "          if self.flag:\n",
        "             print(\"Horray! A new programmer is born\")\n",
        "          print(f'Name: {self.name} \\nLanguage: {self.language} \\nExperience: {self.exp} years.')\n",
        "\n",
        "#############################################\n",
        "\n",
        "p1 = Programmer(\"Ethen Hunt\", \"Java\", 10)\n",
        "p1.printDetails()\n",
        "print('--------------------------')\n",
        "p2 = Programmer(\"James Bond\", \"C++\", 7)\n",
        "p2.printDetails()\n",
        "print('--------------------------')\n",
        "p3 = Programmer(\"Jon Snow\", \"Python\", 4)\n",
        "p3.printDetails()\n",
        "p3.addExp(5)\n",
        "p3.printDetails()"
      ],
      "metadata": {
        "colab": {
          "base_uri": "https://localhost:8080/"
        },
        "id": "JFLvxEsV0pWK",
        "outputId": "6989ae00-8012-48b2-d4fe-912500272dec"
      },
      "execution_count": null,
      "outputs": [
        {
          "output_type": "stream",
          "name": "stdout",
          "text": [
            "Horray! A new programmer is born\n",
            "Name: Ethen Hunt \n",
            "Language: Java \n",
            "Experience: 10 years.\n",
            "--------------------------\n",
            "Horray! A new programmer is born\n",
            "Name: James Bond \n",
            "Language: C++ \n",
            "Experience: 7 years.\n",
            "--------------------------\n",
            "Horray! A new programmer is born\n",
            "Name: Jon Snow \n",
            "Language: Python \n",
            "Experience: 4 years.\n",
            "Updating experience ofJon Snow\n",
            "Name: Jon Snow \n",
            "Language: Python \n",
            "Experience: 9 years.\n"
          ]
        }
      ]
    },
    {
      "cell_type": "markdown",
      "source": [
        "##**Task-10**\n",
        "**Implement** the design of the **UberEats** class so that the following output is produced:                                                                   \n",
        "[For simplicity, you can assume that a customer will always order exact 2 items]\n",
        "**Driver Code**                                                                \n",
        "***#Write your code here***\n",
        "\n",
        "order1 = UberEats(\"Shakib\", \"01719658xxx\", \"Mohakhali\")                      \n",
        "print(\"=========================\")                                              \n",
        "order1.add_items(\"Burger\", \"Coca Cola\", 220, 50)                              \n",
        "print(\"=========================\")                                          \n",
        "print(order1.print_order_detail())                                            \n",
        "print(\"=========================\")                                         \n",
        "order2 = UberEats (\"Siam\", \"01719659xxx\", \"Uttara\")                         \n",
        "print(\"=========================\")                                            \n",
        "order2.add_items(\"Pineapple\", \"Dairy Milk\", 80, 70)                       \n",
        "print(\"=========================\")                                             \n",
        "print(order2.print_order_detail()\n",
        "\n",
        "**Output**                                                                       \n",
        "![images_1.png](data:image/png;base64,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)\n"
      ],
      "metadata": {
        "id": "imMCMe_T0rN5"
      }
    },
    {
      "cell_type": "code",
      "source": [
        " #todo\n",
        "class UberEats:\n",
        "      def __init__(self,name,phone,address):\n",
        "          self.name= name\n",
        "          self.phone = phone\n",
        "          self.address = address\n",
        "          print(f\"{self.name}, welcome to UberEats!\")\n",
        "      def add_items(self,name1,name2,price1,price2):\n",
        "\n",
        "          self.orders = {name1:price1,name2:price2}\n",
        "          self.payment = price1+price2\n",
        "      def print_order_detail(self):\n",
        "          return f'User details: Name: {self.name}, Phone:\\n{self.phone}, Address: {self.address}\\nOrders: {self.orders}\\nTotal Paid Amount: {self.payment}'\n",
        "          \n",
        "####################################\n",
        "\n",
        "order1 = UberEats(\"Shakib\", \"01719658xxx\", \"Mohakhali\")\n",
        "print(\"=========================\")\n",
        "order1.add_items(\"Burger\", \"Coca Cola\", 220, 50)\n",
        "print(\"=========================\")\n",
        "print(order1.print_order_detail())\n",
        "print(\"=========================\")\n",
        "order2 = UberEats (\"Siam\", \"01719659xxx\", \"Uttara\")\n",
        "print(\"=========================\")\n",
        "order2.add_items(\"Pineapple\", \"Dairy Milk\", 80, 70)\n",
        "print(\"=========================\")\n",
        "print(order2.print_order_detail())"
      ],
      "metadata": {
        "colab": {
          "base_uri": "https://localhost:8080/"
        },
        "id": "SjKR3azd2A_S",
        "outputId": "e2c6dd94-201c-417b-dfb5-37772e79f74c"
      },
      "execution_count": null,
      "outputs": [
        {
          "output_type": "stream",
          "name": "stdout",
          "text": [
            "Shakib, welcome to UberEats!\n",
            "=========================\n",
            "=========================\n",
            "User details: Name: Shakib, Phone:\n",
            "01719658xxx, Address: Mohakhali\n",
            "Orders: {'Burger': 220, 'Coca Cola': 50}\n",
            "Total Paid Amount: 270\n",
            "=========================\n",
            "Siam, welcome to UberEats!\n",
            "=========================\n",
            "=========================\n",
            "User details: Name: Siam, Phone:\n",
            "01719659xxx, Address: Uttara\n",
            "Orders: {'Pineapple': 80, 'Dairy Milk': 70}\n",
            "Total Paid Amount: 150\n"
          ]
        }
      ]
    },
    {
      "cell_type": "markdown",
      "source": [
        "##**Task-11**\n",
        "**Implement** the design of the **Spotify** class so that the following output is produced:                                                        \n",
        "**Driver Code**                                                                \n",
        "**# Write your code here**\n",
        "\n",
        "user1 = Spotify([\"See You Again\", \"Uptown Funk\", \"Hello\"])                      \n",
        "print(\"=========================\")                                            \n",
        "print(user1.playing_number(4))                                                \n",
        "user1.add_to_playlist(\"Dusk Till Dawn\")                                     \n",
        "print(user1.playing_number(3))                                                \n",
        "print(user1.playing_number(4))                                                \n",
        "**Output**\n",
        "\n",
        "![images_1.png](data:image/png;base64,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)"
      ],
      "metadata": {
        "id": "oWTbWsH82CR-"
      }
    },
    {
      "cell_type": "code",
      "source": [
        "#todo\n",
        "class Spotify:\n",
        "      def __init__(self,songList):\n",
        "          self.songList = songList\n",
        "          print('Welcome to Spotify!')\n",
        "      def add_to_playlist(self,song):\n",
        "          self.songList.append(song)\n",
        "      def playing_number(self,num):\n",
        "          i = len(self.songList)\n",
        "          if num > i:\n",
        "             return f'{num} number song not found. Your playlist has {i} songs only.'\n",
        "          else:\n",
        "             return f'Playing {num} number song for you \\nSong name: {self.songList[num-1]}'\n",
        "\n",
        "######################\n",
        "\n",
        "user1 = Spotify([\"See You Again\", \"Uptown Funk\", \"Hello\"])\n",
        "print(\"=========================\")\n",
        "print(user1.playing_number(4))\n",
        "user1.add_to_playlist(\"Dusk Till Dawn\")\n",
        "print(user1.playing_number(3))\n",
        "print(user1.playing_number(4))\n",
        "          \n"
      ],
      "metadata": {
        "colab": {
          "base_uri": "https://localhost:8080/"
        },
        "id": "XJIFwt4lD2cf",
        "outputId": "be5fdccb-642c-4b6a-8399-78d9505427e0"
      },
      "execution_count": null,
      "outputs": [
        {
          "output_type": "stream",
          "name": "stdout",
          "text": [
            "Welcome to Spotify!\n",
            "=========================\n",
            "4 number song not found. Your playlist has 3 songs only.\n",
            "Playing 3 number song for you \n",
            "Song name: Hello\n",
            "Playing 4 number song for you \n",
            "Song name: Dusk Till Dawn\n"
          ]
        }
      ]
    },
    {
      "cell_type": "code",
      "source": [],
      "metadata": {
        "id": "DnX5rNi8FU7W"
      },
      "execution_count": null,
      "outputs": []
    }
  ]
}